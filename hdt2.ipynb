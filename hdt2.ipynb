{
 "cells": [
  {
   "attachments": {},
   "cell_type": "markdown",
   "metadata": {},
   "source": [
    "# LABORATORIO #2 - Deteccion de SPAM\n",
    " Autor: Javier Estuardo 19202\n",
    " \n",
    " Autor: Marco Ramirez   19588"
   ]
  },
  {
   "attachments": {},
   "cell_type": "markdown",
   "metadata": {},
   "source": [
    "### Ingenieria de caracteristicas\n"
   ]
  },
  {
   "attachments": {},
   "cell_type": "markdown",
   "metadata": {},
   "source": [
    "* #### Exploracion de datos\n",
    "    Para el laboratorio se proporcionan dos datasets distintos. Revise la data y realice las operaciones\n",
    "necesarias para unificar los datasets y que el dataset final contenga el mensaje del correo y la etiqueta\n",
    "que indique si es SPAM o no.\n",
    "Muestre ejemplos de los datasets individuales y del dataset final\n"
   ]
  },
  {
   "attachments": {},
   "cell_type": "markdown",
   "metadata": {},
   "source": [
    "* #### Preprocesamiento\n",
    "\n",
    "    Aplique las técnicas de pre – procesamiento de lenguaje natural que considere necesarias (conversión\n",
    "de minúsculas, mayúsculas, eliminación de acentos, expansión de contracciones, eliminación de stop\n",
    "words, etc.)"
   ]
  },
  {
   "attachments": {},
   "cell_type": "markdown",
   "metadata": {},
   "source": [
    "* #### Representacion de texto\n",
    "    Utilice los modelos de BoG (para n = 1,2) y TF-IDF. Muestre algunos ejemplos de los mensajes en su\n",
    "representación numérica."
   ]
  },
  {
   "attachments": {},
   "cell_type": "markdown",
   "metadata": {},
   "source": [
    "### Implementacion del modelo\n"
   ]
  },
  {
   "attachments": {},
   "cell_type": "markdown",
   "metadata": {},
   "source": [
    "* Separacion de datos : \n",
    "\n",
    "    * Datos de entrenamiento: 70% \n",
    "    * Datos de prueba: 30%\n",
    "\n",
    "\n"
   ]
  },
  {
   "attachments": {},
   "cell_type": "markdown",
   "metadata": {},
   "source": [
    "* Implementacion del modelo naive bayes"
   ]
  },
  {
   "attachments": {},
   "cell_type": "markdown",
   "metadata": {},
   "source": [
    "* Resultados del modelo"
   ]
  },
  {
   "attachments": {},
   "cell_type": "markdown",
   "metadata": {},
   "source": [
    "#### Conclusion\n",
    "Compare los valores para cada modelo de representación numérico. ¿Qué modelo produjo el mejor\n",
    "resultado, BoG o TF-IDF? ¿A que se debe la mejora? Explique los valores obtenidos en las métricas\n",
    "para el mejor modelo."
   ]
  }
 ],
 "metadata": {
  "kernelspec": {
   "display_name": "Env3.10.4",
   "language": "python",
   "name": "python3"
  },
  "language_info": {
   "codemirror_mode": {
    "name": "ipython",
    "version": 3
   },
   "file_extension": ".py",
   "mimetype": "text/x-python",
   "name": "python",
   "nbconvert_exporter": "python",
   "pygments_lexer": "ipython3",
   "version": "3.10.4"
  },
  "orig_nbformat": 4,
  "vscode": {
   "interpreter": {
    "hash": "0471fbe7a7bc3d9ee2c855e04dd4aaf4392eced2ea75a9e4158613d71de6454d"
   }
  }
 },
 "nbformat": 4,
 "nbformat_minor": 2
}
